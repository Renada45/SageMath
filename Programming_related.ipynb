{
 "cells": [
  {
   "cell_type": "markdown",
   "id": "5e678592",
   "metadata": {},
   "source": [
    "## For loop\n",
    "use loops to automate repetitive tasks (e.g. generating table)"
   ]
  },
  {
   "cell_type": "code",
   "execution_count": 3,
   "id": "378d951c",
   "metadata": {},
   "outputs": [
    {
     "name": "stdout",
     "output_type": "stream",
     "text": [
      "2\n",
      "4\n",
      "6\n"
     ]
    }
   ],
   "source": [
    "for x in [2,4,6]: print(x)"
   ]
  },
  {
   "cell_type": "code",
   "execution_count": 9,
   "id": "a6ef1bfe",
   "metadata": {},
   "outputs": [
    {
     "name": "stdout",
     "output_type": "stream",
     "text": [
      " 1  1  1\n",
      " 2  4  8\n",
      " 3  9 27\n",
      " 4 16 64\n",
      " 5 25 125\n"
     ]
    }
   ],
   "source": [
    "for n in range(1,6):\n",
    "    print(f\"{n:2d} {n**2:2d} {n**3:2d}\")"
   ]
  },
  {
   "cell_type": "markdown",
   "id": "9bc18678",
   "metadata": {},
   "source": [
    "## While loop\n",
    "does not kow number to specify"
   ]
  },
  {
   "cell_type": "code",
   "execution_count": 10,
   "id": "8fc82ee4",
   "metadata": {},
   "outputs": [
    {
     "name": "stdout",
     "output_type": "stream",
     "text": [
      "10 1024\n"
     ]
    }
   ],
   "source": [
    "k =0 \n",
    "value = 1\n",
    "while value <=1000:\n",
    "    value*=2\n",
    "    k+=1\n",
    "print(k, value)"
   ]
  },
  {
   "cell_type": "code",
   "execution_count": 11,
   "id": "0c4d98cd",
   "metadata": {},
   "outputs": [
    {
     "name": "stdout",
     "output_type": "stream",
     "text": [
      "15 2078.92817941137\n"
     ]
    }
   ],
   "source": [
    "year =0 \n",
    "value = 1000\n",
    "while value <= 2000:\n",
    "    value*=(1.05)\n",
    "    year+=1\n",
    "print(year, value)"
   ]
  },
  {
   "cell_type": "markdown",
   "id": "1462dcb5",
   "metadata": {},
   "source": [
    "## If-else condition "
   ]
  },
  {
   "cell_type": "code",
   "execution_count": 12,
   "id": "f19b7773",
   "metadata": {},
   "outputs": [
    {
     "name": "stdout",
     "output_type": "stream",
     "text": [
      "1 is odd\n",
      "2 is even\n",
      "3 is odd\n",
      "4 is even\n",
      "5 is odd\n"
     ]
    }
   ],
   "source": [
    "for x in range(1,6):\n",
    "    if x % 2 == 0:\n",
    "        print(f\"{x} is even\")\n",
    "    else:\n",
    "        print(f\"{x} is odd\")"
   ]
  },
  {
   "cell_type": "markdown",
   "id": "cbd61599",
   "metadata": {},
   "source": [
    "## Functions"
   ]
  },
  {
   "cell_type": "code",
   "execution_count": null,
   "id": "1c6ac2e9",
   "metadata": {},
   "outputs": [],
   "source": [
    "# 4\n",
    "def give_change(total_cost, amount_paid):\n",
    "    change = amount_paid - total_cost\n",
    "    coins = [25, 10, 5, 1]\n",
    "    names = [\"quarters\", \"dimes\", \"nickels\", \"pennies\"]\n",
    "    result = {}\n",
    "    \n",
    "    for i in range(len(coins)):\n",
    "        result[names[i]] = change // coins[i]\n",
    "        change %= coins[i]\n",
    "    \n",
    "    return result\n",
    "\n",
    "give_change(137, 200)"
   ]
  }
 ],
 "metadata": {
  "kernelspec": {
   "display_name": "SageMath 9.5",
   "language": "sage",
   "name": "sagemath"
  },
  "language_info": {
   "codemirror_mode": {
    "name": "ipython",
    "version": 3
   },
   "file_extension": ".py",
   "mimetype": "text/x-python",
   "name": "python",
   "nbconvert_exporter": "python",
   "pygments_lexer": "ipython3",
   "version": "3.10.12"
  }
 },
 "nbformat": 4,
 "nbformat_minor": 5
}
