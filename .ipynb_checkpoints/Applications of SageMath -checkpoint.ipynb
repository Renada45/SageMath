{
 "cells": [
  {
   "cell_type": "markdown",
   "id": "ebbc2a61",
   "metadata": {},
   "source": [
    "## Number Theory"
   ]
  },
  {
   "cell_type": "code",
   "execution_count": 5,
   "id": "18aec97d",
   "metadata": {},
   "outputs": [
    {
     "data": {
      "text/plain": [
       "3600"
      ]
     },
     "execution_count": 5,
     "metadata": {},
     "output_type": "execute_result"
    }
   ],
   "source": [
    "# Greatest common divisor\n",
    "gcd(23, 21) # the answer is 1, so we say that a and b are coprime (no common factor besides 1)\n",
    "gcd(48, 180)\n",
    "gcd([48, 180, 100]) # find the largest common factor \n",
    "\n",
    "# Least common multiple \n",
    "lcm(48, 180) # returns 720\n",
    "lcm([48, 180, 100])\n",
    "\n",
    "# gcd(a, b) * lcm(a, b) = |a*b| ; dot product of a and b "
   ]
  },
  {
   "cell_type": "code",
   "execution_count": 7,
   "id": "51fc0fed",
   "metadata": {},
   "outputs": [
    {
     "data": {
      "text/plain": [
       "[2, 3, 5, 7]"
      ]
     },
     "execution_count": 7,
     "metadata": {},
     "output_type": "execute_result"
    }
   ],
   "source": [
    "is_prime(8)\n",
    "prime_range(1,9)"
   ]
  },
  {
   "cell_type": "code",
   "execution_count": 12,
   "id": "6cd67c79",
   "metadata": {},
   "outputs": [
    {
     "data": {
      "text/plain": [
       "1"
      ]
     },
     "execution_count": 12,
     "metadata": {},
     "output_type": "execute_result"
    }
   ],
   "source": [
    "gcd(0,1) # coprime "
   ]
  },
  {
   "cell_type": "code",
   "execution_count": 13,
   "id": "5b3daf3e",
   "metadata": {},
   "outputs": [
    {
     "data": {
      "text/plain": [
       "0"
      ]
     },
     "execution_count": 13,
     "metadata": {},
     "output_type": "execute_result"
    }
   ],
   "source": [
    "# Euler's Phi (Totient) function\n",
    "# Euler's totient = number of positive integers <= n that are coprime to n \n",
    "\n",
    "euler_phi(12) # 1,5,7,11 are coprime to 12 \n",
    "euler_phi(0)\n",
    "\n",
    "# g(m,n) = 1 => phi(m,n) = phi(m)phi(n)"
   ]
  },
  {
   "cell_type": "code",
   "execution_count": 18,
   "id": "36608395",
   "metadata": {},
   "outputs": [
    {
     "data": {
      "text/plain": [
       "2"
      ]
     },
     "execution_count": 18,
     "metadata": {},
     "output_type": "execute_result"
    }
   ],
   "source": [
    "# divisors and modular arithmetic\n",
    "17 % 5 # want to find positive remainder\n",
    "mod(17, 5) # case-sentive but this case you can use uppercase and lowercase\n"
   ]
  },
  {
   "cell_type": "markdown",
   "id": "375ce0b1",
   "metadata": {},
   "source": [
    "## Optimization"
   ]
  },
  {
   "cell_type": "code",
   "execution_count": 21,
   "id": "8c7a5faa",
   "metadata": {},
   "outputs": [
    {
     "data": {
      "text/plain": [
       "[x == (3/2)]"
      ]
     },
     "execution_count": 21,
     "metadata": {},
     "output_type": "execute_result"
    }
   ],
   "source": [
    "# f_prime = 0 check the concept of derivative about critical points\n",
    "f(x) = x^2-3*x+4\n",
    "diff(f,x)\n",
    "\n",
    "# find the critical point \n",
    "solve(diff(f,x) ==0, x) "
   ]
  },
  {
   "cell_type": "code",
   "execution_count": 22,
   "id": "547ca1a4",
   "metadata": {},
   "outputs": [
    {
     "data": {
      "text/plain": [
       "x |--> 2"
      ]
     },
     "execution_count": 22,
     "metadata": {},
     "output_type": "execute_result"
    }
   ],
   "source": [
    "# find local max and min extrema\n",
    "# 1 st -> check sign diagram\n",
    "# 2 nd -> check if it is positive or negative ; f_prime > 0 -> concave up (min) ; f_prime < 0 -> concave down (max)\n",
    "diff(f,x,2)"
   ]
  },
  {
   "cell_type": "code",
   "execution_count": 25,
   "id": "20466f23",
   "metadata": {},
   "outputs": [
    {
     "data": {
      "text/plain": [
       "x |--> (2*x - 3)"
      ]
     },
     "execution_count": 25,
     "metadata": {},
     "output_type": "execute_result"
    }
   ],
   "source": [
    "# Lagrange numtipliers\n",
    "# example : optimal area\n",
    "# problem : find positive x,y that maximize the area A = xy (objective function) \n",
    "of a rectangle with perimeter 100 (constraigt 2x + 2y =100)\n",
    "f.gradient()"
   ]
  },
  {
   "cell_type": "code",
   "execution_count": 26,
   "id": "3fba937f",
   "metadata": {},
   "outputs": [
    {
     "data": {
      "text/plain": [
       "[[x == 25, y == 25, lam == (25/2)]]"
      ]
     },
     "execution_count": 26,
     "metadata": {},
     "output_type": "execute_result"
    }
   ],
   "source": [
    "x, y, lam = var('x y lam')\n",
    "solve([y- lam*2, x-lam*2, 2*x + 2*y - 100],[x,y,lam])"
   ]
  },
  {
   "cell_type": "markdown",
   "id": "eb1c3b2b",
   "metadata": {},
   "source": [
    "## Differential Equations"
   ]
  },
  {
   "cell_type": "code",
   "execution_count": 27,
   "id": "79e5141c",
   "metadata": {},
   "outputs": [
    {
     "data": {
      "text/plain": [
       "5*e^(3*x)"
      ]
     },
     "execution_count": 27,
     "metadata": {},
     "output_type": "execute_result"
    }
   ],
   "source": [
    "x = var('x')\n",
    "y = function('y')(x)\n",
    "desolve(diff(y,x) - 3*y, y, ics = [0,5]) # y(0) = 5"
   ]
  },
  {
   "cell_type": "code",
   "execution_count": null,
   "id": "18ab23e6",
   "metadata": {},
   "outputs": [],
   "source": []
  },
  {
   "cell_type": "code",
   "execution_count": null,
   "id": "8d4321bc",
   "metadata": {},
   "outputs": [],
   "source": []
  },
  {
   "cell_type": "markdown",
   "id": "35dd57c5",
   "metadata": {},
   "source": [
    "## Linear Programming"
   ]
  },
  {
   "cell_type": "code",
   "execution_count": null,
   "id": "66bcbd5c",
   "metadata": {},
   "outputs": [],
   "source": []
  },
  {
   "cell_type": "code",
   "execution_count": null,
   "id": "d3ef2305",
   "metadata": {},
   "outputs": [],
   "source": []
  },
  {
   "cell_type": "code",
   "execution_count": null,
   "id": "15386918",
   "metadata": {},
   "outputs": [],
   "source": []
  }
 ],
 "metadata": {
  "kernelspec": {
   "display_name": "SageMath 9.5",
   "language": "sage",
   "name": "sagemath"
  },
  "language_info": {
   "codemirror_mode": {
    "name": "ipython",
    "version": 3
   },
   "file_extension": ".py",
   "mimetype": "text/x-python",
   "name": "python",
   "nbconvert_exporter": "python",
   "pygments_lexer": "ipython3",
   "version": "3.10.12"
  }
 },
 "nbformat": 4,
 "nbformat_minor": 5
}
